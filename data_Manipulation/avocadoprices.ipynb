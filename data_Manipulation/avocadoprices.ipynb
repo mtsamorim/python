{
 "cells": [
  {
   "cell_type": "code",
   "execution_count": null,
   "metadata": {},
   "outputs": [],
   "source": [
    "import pandas as pd\n",
    "\n",
    "avocado = pd.read_pickle(\"avocadoprices.pkl\")"
   ]
  }
 ],
 "metadata": {
  "kernelspec": {
   "display_name": "base",
   "language": "python",
   "name": "python3"
  },
  "language_info": {
   "name": "python",
   "version": "3.9.15"
  },
  "orig_nbformat": 4,
  "vscode": {
   "interpreter": {
    "hash": "ea54984b7329fbc6fbbbbffde91b97224fa542296e65d6379259d8ab79d5326a"
   }
  }
 },
 "nbformat": 4,
 "nbformat_minor": 2
}
